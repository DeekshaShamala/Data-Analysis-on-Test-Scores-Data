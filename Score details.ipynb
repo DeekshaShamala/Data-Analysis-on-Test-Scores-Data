{
 "cells": [
  {
   "cell_type": "code",
   "execution_count": 9,
   "id": "220279e3",
   "metadata": {},
   "outputs": [],
   "source": [
    "import matplotlib.pyplot as plt\n",
    "import seaborn as sns\n",
    "import pandas as pd\n",
    "import numpy as np"
   ]
  },
  {
   "cell_type": "code",
   "execution_count": 10,
   "id": "ce801097",
   "metadata": {},
   "outputs": [],
   "source": [
    "df  = pd.read_csv(r\"C:\\Users\\deeksha\\scores_data.csv\")"
   ]
  },
  {
   "cell_type": "code",
   "execution_count": 11,
   "id": "eb2f888b",
   "metadata": {},
   "outputs": [
    {
     "name": "stdout",
     "output_type": "stream",
     "text": [
      "<class 'pandas.core.frame.DataFrame'>\n",
      "RangeIndex: 149 entries, 0 to 148\n",
      "Data columns (total 3 columns):\n",
      " #   Column       Non-Null Count  Dtype \n",
      "---  ------       --------------  ----- \n",
      " 0   Batch        149 non-null    object\n",
      " 1   User_ID      149 non-null    object\n",
      " 2      Score     149 non-null    object\n",
      "dtypes: object(3)\n",
      "memory usage: 3.6+ KB\n"
     ]
    }
   ],
   "source": [
    "df.info()"
   ]
  },
  {
   "cell_type": "code",
   "execution_count": 12,
   "id": "f427d2f9",
   "metadata": {},
   "outputs": [
    {
     "data": {
      "text/html": [
       "<div>\n",
       "<style scoped>\n",
       "    .dataframe tbody tr th:only-of-type {\n",
       "        vertical-align: middle;\n",
       "    }\n",
       "\n",
       "    .dataframe tbody tr th {\n",
       "        vertical-align: top;\n",
       "    }\n",
       "\n",
       "    .dataframe thead th {\n",
       "        text-align: right;\n",
       "    }\n",
       "</style>\n",
       "<table border=\"1\" class=\"dataframe\">\n",
       "  <thead>\n",
       "    <tr style=\"text-align: right;\">\n",
       "      <th></th>\n",
       "      <th>Batch</th>\n",
       "      <th>User_ID</th>\n",
       "      <th>Score</th>\n",
       "    </tr>\n",
       "  </thead>\n",
       "  <tbody>\n",
       "    <tr>\n",
       "      <th>0</th>\n",
       "      <td>AI_ELITE_7</td>\n",
       "      <td>uid_149</td>\n",
       "      <td>6 / 7</td>\n",
       "    </tr>\n",
       "    <tr>\n",
       "      <th>1</th>\n",
       "      <td>AI_ELITE_7</td>\n",
       "      <td>uid_148</td>\n",
       "      <td>6 / 7</td>\n",
       "    </tr>\n",
       "    <tr>\n",
       "      <th>2</th>\n",
       "      <td>AI_ELITE_7</td>\n",
       "      <td>uid_147</td>\n",
       "      <td>7 / 7</td>\n",
       "    </tr>\n",
       "    <tr>\n",
       "      <th>3</th>\n",
       "      <td>AI_ELITE_7</td>\n",
       "      <td>uid_146</td>\n",
       "      <td>7 / 7</td>\n",
       "    </tr>\n",
       "    <tr>\n",
       "      <th>4</th>\n",
       "      <td>AI_ELITE_7</td>\n",
       "      <td>uid_145</td>\n",
       "      <td>4 / 7</td>\n",
       "    </tr>\n",
       "  </tbody>\n",
       "</table>\n",
       "</div>"
      ],
      "text/plain": [
       "       Batch  User_ID     Score   \n",
       "0  AI_ELITE_7  uid_149       6 / 7\n",
       "1  AI_ELITE_7  uid_148       6 / 7\n",
       "2  AI_ELITE_7  uid_147       7 / 7\n",
       "3  AI_ELITE_7  uid_146       7 / 7\n",
       "4  AI_ELITE_7  uid_145       4 / 7"
      ]
     },
     "execution_count": 12,
     "metadata": {},
     "output_type": "execute_result"
    }
   ],
   "source": [
    "df.head()"
   ]
  },
  {
   "cell_type": "code",
   "execution_count": 16,
   "id": "fb0335ca",
   "metadata": {},
   "outputs": [
    {
     "data": {
      "text/plain": [
       "Index(['Batch ', 'User_ID ', '   Score   '], dtype='object')"
      ]
     },
     "execution_count": 16,
     "metadata": {},
     "output_type": "execute_result"
    }
   ],
   "source": [
    "df.columns"
   ]
  },
  {
   "cell_type": "markdown",
   "id": "faa12aef",
   "metadata": {},
   "source": [
    "### Renaming the column names with proper names after removing the spaces"
   ]
  },
  {
   "cell_type": "code",
   "execution_count": 23,
   "id": "d509674c",
   "metadata": {},
   "outputs": [],
   "source": [
    "df.rename(columns = {'Batch ': 'Batch', 'User_ID ':'User_ID', '   Score   ':'Score'}, inplace= True)"
   ]
  },
  {
   "cell_type": "code",
   "execution_count": 24,
   "id": "2c5de0fd",
   "metadata": {},
   "outputs": [
    {
     "data": {
      "text/plain": [
       "Index(['Batch', 'User_ID', 'Score'], dtype='object')"
      ]
     },
     "execution_count": 24,
     "metadata": {},
     "output_type": "execute_result"
    }
   ],
   "source": [
    "df.columns"
   ]
  },
  {
   "cell_type": "code",
   "execution_count": 29,
   "id": "c4108939",
   "metadata": {},
   "outputs": [
    {
     "data": {
      "text/plain": [
       "array(['AI_ELITE_7', 'AI_ELITE_6', 'AI_ELITE_4'], dtype=object)"
      ]
     },
     "execution_count": 29,
     "metadata": {},
     "output_type": "execute_result"
    }
   ],
   "source": [
    "df[\"Batch\"].unique()"
   ]
  },
  {
   "cell_type": "code",
   "execution_count": 35,
   "id": "454a71e6",
   "metadata": {},
   "outputs": [
    {
     "data": {
      "text/plain": [
       "0      6 / 7\n",
       "1      6 / 7\n",
       "2      7 / 7\n",
       "3      7 / 7\n",
       "4      4 / 7\n",
       "       ...  \n",
       "144    4 / 7\n",
       "145    4 / 7\n",
       "146    4 / 7\n",
       "147    3 / 7\n",
       "148    2 / 7\n",
       "Name: Score, Length: 149, dtype: object"
      ]
     },
     "execution_count": 35,
     "metadata": {},
     "output_type": "execute_result"
    }
   ],
   "source": [
    "df[\"Score\"]"
   ]
  },
  {
   "cell_type": "markdown",
   "id": "eef1987f",
   "metadata": {},
   "source": [
    "### Creating a column with only the score values"
   ]
  },
  {
   "cell_type": "code",
   "execution_count": 57,
   "id": "cc1389a3",
   "metadata": {},
   "outputs": [],
   "source": [
    "df[\"Scores\"] = df[\"Score\"].str.split(\"/\", expand = True)[0]"
   ]
  },
  {
   "cell_type": "code",
   "execution_count": 59,
   "id": "ffebdf87",
   "metadata": {},
   "outputs": [
    {
     "data": {
      "text/html": [
       "<div>\n",
       "<style scoped>\n",
       "    .dataframe tbody tr th:only-of-type {\n",
       "        vertical-align: middle;\n",
       "    }\n",
       "\n",
       "    .dataframe tbody tr th {\n",
       "        vertical-align: top;\n",
       "    }\n",
       "\n",
       "    .dataframe thead th {\n",
       "        text-align: right;\n",
       "    }\n",
       "</style>\n",
       "<table border=\"1\" class=\"dataframe\">\n",
       "  <thead>\n",
       "    <tr style=\"text-align: right;\">\n",
       "      <th></th>\n",
       "      <th>Batch</th>\n",
       "      <th>User_ID</th>\n",
       "      <th>Score</th>\n",
       "      <th>Scores</th>\n",
       "    </tr>\n",
       "  </thead>\n",
       "  <tbody>\n",
       "    <tr>\n",
       "      <th>0</th>\n",
       "      <td>AI_ELITE_7</td>\n",
       "      <td>uid_149</td>\n",
       "      <td>6 / 7</td>\n",
       "      <td>6</td>\n",
       "    </tr>\n",
       "    <tr>\n",
       "      <th>1</th>\n",
       "      <td>AI_ELITE_7</td>\n",
       "      <td>uid_148</td>\n",
       "      <td>6 / 7</td>\n",
       "      <td>6</td>\n",
       "    </tr>\n",
       "    <tr>\n",
       "      <th>2</th>\n",
       "      <td>AI_ELITE_7</td>\n",
       "      <td>uid_147</td>\n",
       "      <td>7 / 7</td>\n",
       "      <td>7</td>\n",
       "    </tr>\n",
       "    <tr>\n",
       "      <th>3</th>\n",
       "      <td>AI_ELITE_7</td>\n",
       "      <td>uid_146</td>\n",
       "      <td>7 / 7</td>\n",
       "      <td>7</td>\n",
       "    </tr>\n",
       "    <tr>\n",
       "      <th>4</th>\n",
       "      <td>AI_ELITE_7</td>\n",
       "      <td>uid_145</td>\n",
       "      <td>4 / 7</td>\n",
       "      <td>4</td>\n",
       "    </tr>\n",
       "  </tbody>\n",
       "</table>\n",
       "</div>"
      ],
      "text/plain": [
       "        Batch  User_ID  Score Scores\n",
       "0  AI_ELITE_7  uid_149  6 / 7     6 \n",
       "1  AI_ELITE_7  uid_148  6 / 7     6 \n",
       "2  AI_ELITE_7  uid_147  7 / 7     7 \n",
       "3  AI_ELITE_7  uid_146  7 / 7     7 \n",
       "4  AI_ELITE_7  uid_145  4 / 7     4 "
      ]
     },
     "execution_count": 59,
     "metadata": {},
     "output_type": "execute_result"
    }
   ],
   "source": [
    "df.head()"
   ]
  },
  {
   "cell_type": "code",
   "execution_count": 60,
   "id": "e8f63299",
   "metadata": {},
   "outputs": [],
   "source": [
    "df[\"Scores\"] = df[\"Scores\"].astype(float)"
   ]
  },
  {
   "cell_type": "code",
   "execution_count": 61,
   "id": "0ddc3ef3",
   "metadata": {},
   "outputs": [
    {
     "name": "stdout",
     "output_type": "stream",
     "text": [
      "<class 'pandas.core.frame.DataFrame'>\n",
      "RangeIndex: 149 entries, 0 to 148\n",
      "Data columns (total 4 columns):\n",
      " #   Column   Non-Null Count  Dtype  \n",
      "---  ------   --------------  -----  \n",
      " 0   Batch    149 non-null    object \n",
      " 1   User_ID  149 non-null    object \n",
      " 2   Score    149 non-null    object \n",
      " 3   Scores   149 non-null    float64\n",
      "dtypes: float64(1), object(3)\n",
      "memory usage: 4.8+ KB\n"
     ]
    }
   ],
   "source": [
    "df.info()"
   ]
  },
  {
   "cell_type": "code",
   "execution_count": 91,
   "id": "be36d796",
   "metadata": {},
   "outputs": [
    {
     "data": {
      "text/plain": [
       "4.382550335570469"
      ]
     },
     "execution_count": 91,
     "metadata": {},
     "output_type": "execute_result"
    }
   ],
   "source": [
    "df[\"Scores\"].mean()"
   ]
  },
  {
   "cell_type": "code",
   "execution_count": 92,
   "id": "64070383",
   "metadata": {},
   "outputs": [
    {
     "data": {
      "text/plain": [
       "4.0"
      ]
     },
     "execution_count": 92,
     "metadata": {},
     "output_type": "execute_result"
    }
   ],
   "source": [
    "df[\"Scores\"].median()"
   ]
  },
  {
   "cell_type": "code",
   "execution_count": 93,
   "id": "781956d7",
   "metadata": {},
   "outputs": [
    {
     "data": {
      "text/plain": [
       "0    4.0\n",
       "Name: Scores, dtype: float64"
      ]
     },
     "execution_count": 93,
     "metadata": {},
     "output_type": "execute_result"
    }
   ],
   "source": [
    "df[\"Scores\"].mode()"
   ]
  },
  {
   "cell_type": "code",
   "execution_count": 112,
   "id": "7cb694e4",
   "metadata": {},
   "outputs": [
    {
     "data": {
      "text/plain": [
       "Batch\n",
       "AI_ELITE_4    7.0\n",
       "AI_ELITE_6    7.0\n",
       "AI_ELITE_7    7.0\n",
       "Name: Scores, dtype: float64"
      ]
     },
     "execution_count": 112,
     "metadata": {},
     "output_type": "execute_result"
    }
   ],
   "source": [
    "df.groupby(\"Batch\")[\"Scores\"].max()"
   ]
  },
  {
   "cell_type": "code",
   "execution_count": 113,
   "id": "52b79bb3",
   "metadata": {},
   "outputs": [
    {
     "data": {
      "text/plain": [
       "Batch\n",
       "AI_ELITE_4    0.0\n",
       "AI_ELITE_6    0.0\n",
       "AI_ELITE_7    2.0\n",
       "Name: Scores, dtype: float64"
      ]
     },
     "execution_count": 113,
     "metadata": {},
     "output_type": "execute_result"
    }
   ],
   "source": [
    "df.groupby(\"Batch\")[\"Scores\"].min()"
   ]
  },
  {
   "cell_type": "markdown",
   "id": "883d0f8c",
   "metadata": {},
   "source": [
    "### Visualization EDA:"
   ]
  },
  {
   "cell_type": "code",
   "execution_count": 82,
   "id": "1280b5bc",
   "metadata": {},
   "outputs": [
    {
     "data": {
      "text/plain": [
       "(array([ 2.,  3., 12.,  0., 24., 40.,  0., 32., 18., 18.]),\n",
       " array([0. , 0.7, 1.4, 2.1, 2.8, 3.5, 4.2, 4.9, 5.6, 6.3, 7. ]),\n",
       " <BarContainer object of 10 artists>)"
      ]
     },
     "execution_count": 82,
     "metadata": {},
     "output_type": "execute_result"
    },
    {
     "data": {
      "image/png": "[encoded data removed]",
      "text/plain": [
       "<Figure size 640x480 with 1 Axes>"
      ]
     },
     "metadata": {},
     "output_type": "display_data"
    }
   ],
   "source": [
    "plt.hist(df[\"Scores\"])"
   ]
  },
  {
   "cell_type": "code",
   "execution_count": 83,
   "id": "7915efd2",
   "metadata": {},
   "outputs": [
    {
     "data": {
      "text/plain": [
       "{'whiskers': [<matplotlib.lines.Line2D at 0x1929dda07d0>,\n",
       "  <matplotlib.lines.Line2D at 0x1929ddd8490>],\n",
       " 'caps': [<matplotlib.lines.Line2D at 0x1929ddd8e10>,\n",
       "  <matplotlib.lines.Line2D at 0x1929ddd9650>],\n",
       " 'boxes': [<matplotlib.lines.Line2D at 0x1929ddb3150>],\n",
       " 'medians': [<matplotlib.lines.Line2D at 0x1929ddd9f50>],\n",
       " 'fliers': [<matplotlib.lines.Line2D at 0x1929dcc2750>],\n",
       " 'means': []}"
      ]
     },
     "execution_count": 83,
     "metadata": {},
     "output_type": "execute_result"
    },
    {
     "data": {
      "image/png": "[encoded data removed]",
      "text/plain": [
       "<Figure size 640x480 with 1 Axes>"
      ]
     },
     "metadata": {},
     "output_type": "display_data"
    }
   ],
   "source": [
    "plt.boxplot(df[\"Scores\"])"
   ]
  },
  {
   "cell_type": "code",
   "execution_count": 86,
   "id": "56259219",
   "metadata": {},
   "outputs": [
    {
     "data": {
      "text/plain": [
       "<Axes: xlabel='Scores', ylabel='Density'>"
      ]
     },
     "execution_count": 86,
     "metadata": {},
     "output_type": "execute_result"
    },
    {
     "data": {
      "image/png": "[encoded data removed]",
      "text/plain": [
       "<Figure size 640x480 with 1 Axes>"
      ]
     },
     "metadata": {},
     "output_type": "display_data"
    }
   ],
   "source": [
    "sns.kdeplot(df[\"Scores\"])"
   ]
  },
  {
   "cell_type": "markdown",
   "id": "1c695f2f",
   "metadata": {},
   "source": [
    "###### We can conclude from the above graph that the Scores data almost follows a normal distribution."
   ]
  },
  {
   "cell_type": "code",
   "execution_count": 64,
   "id": "64f1afdf",
   "metadata": {},
   "outputs": [
    {
     "data": {
      "text/plain": [
       "<Axes: >"
      ]
     },
     "execution_count": 64,
     "metadata": {},
     "output_type": "execute_result"
    },
    {
     "data": {
      "image/png": "[encoded data removed]",
      "text/plain": [
       "<Figure size 640x480 with 1 Axes>"
      ]
     },
     "metadata": {},
     "output_type": "display_data"
    }
   ],
   "source": [
    "df[\"Batch\"].value_counts().plot(kind='bar')`"
   ]
  },
  {
   "cell_type": "markdown",
   "id": "b2317e66",
   "metadata": {},
   "source": [
    "###### The above graph shows that the count of AI_ELITE_7 BAtch is more than the other two Batches."
   ]
  },
  {
   "cell_type": "code",
   "execution_count": 81,
   "id": "4ffcb5ca",
   "metadata": {},
   "outputs": [
    {
     "data": {
      "text/plain": [
       "([<matplotlib.patches.Wedge at 0x1929dce9450>,\n",
       "  <matplotlib.patches.Wedge at 0x1929dcf9510>,\n",
       "  <matplotlib.patches.Wedge at 0x1929dcfa890>],\n",
       " [Text(0.48174498010486017, 0.9888992740131666, 'AI_ELITE_7'),\n",
       "  Text(-1.093893010945477, -0.11575007820575742, 'AI_ELITE_6'),\n",
       "  Text(0.5831295809449851, -0.9327164048235274, 'AI_ELITE_4')],\n",
       " [Text(0.2627699891481055, 0.5393996040071817, '35.57'),\n",
       "  Text(-0.5966689150611691, -0.06313640629404949, '32.21'),\n",
       "  Text(0.3180706805154464, -0.5087544026310149, '32.21')])"
      ]
     },
     "execution_count": 81,
     "metadata": {},
     "output_type": "execute_result"
    },
    {
     "data": {
      "image/png": "[encoded data removed]",
      "text/plain": [
       "<Figure size 640x480 with 1 Axes>"
      ]
     },
     "metadata": {},
     "output_type": "display_data"
    }
   ],
   "source": [
    "df_1 = df[\"Batch\"].value_counts()\n",
    "plt.pie(df_1, labels = df_1.index, autopct = \"%.2f\")"
   ]
  },
  {
   "cell_type": "markdown",
   "id": "77b3c1ff",
   "metadata": {},
   "source": [
    "Let us count the average score of each batch since the count of one batch is more than the other two."
   ]
  },
  {
   "cell_type": "code",
   "execution_count": 110,
   "id": "1d832c1b",
   "metadata": {},
   "outputs": [
    {
     "data": {
      "text/plain": [
       "Batch\n",
       "AI_ELITE_4    182.0\n",
       "AI_ELITE_6    203.0\n",
       "AI_ELITE_7    268.0\n",
       "Name: Scores, dtype: float64"
      ]
     },
     "execution_count": 110,
     "metadata": {},
     "output_type": "execute_result"
    }
   ],
   "source": [
    "df.groupby(\"Batch\")[\"Scores\"].sum()"
   ]
  },
  {
   "cell_type": "code",
   "execution_count": 111,
   "id": "404929ca",
   "metadata": {},
   "outputs": [
    {
     "data": {
      "text/plain": [
       "Batch\n",
       "AI_ELITE_4    48\n",
       "AI_ELITE_6    48\n",
       "AI_ELITE_7    53\n",
       "dtype: int64"
      ]
     },
     "execution_count": 111,
     "metadata": {},
     "output_type": "execute_result"
    }
   ],
   "source": [
    "df.groupby(\"Batch\").size()"
   ]
  },
  {
   "cell_type": "code",
   "execution_count": 106,
   "id": "8f80af7d",
   "metadata": {},
   "outputs": [
    {
     "data": {
      "text/plain": [
       "Batch\n",
       "AI_ELITE_4    3.791667\n",
       "AI_ELITE_6    4.229167\n",
       "AI_ELITE_7    5.056604\n",
       "dtype: float64"
      ]
     },
     "execution_count": 106,
     "metadata": {},
     "output_type": "execute_result"
    }
   ],
   "source": [
    "df.groupby(\"Batch\")[\"Scores\"].sum()/df.groupby(\"Batch\").size()"
   ]
  },
  {
   "cell_type": "code",
   "execution_count": 101,
   "id": "1d9004e3",
   "metadata": {},
   "outputs": [],
   "source": [
    "df[\"Avg_Scores\"] = df.groupby(\"Batch\")[\"Scores\"].transform(\"sum\")/df.groupby(\"Batch\").transform(\"size\")"
   ]
  },
  {
   "cell_type": "code",
   "execution_count": 102,
   "id": "e865b1bd",
   "metadata": {},
   "outputs": [
    {
     "data": {
      "text/html": [
       "<div>\n",
       "<style scoped>\n",
       "    .dataframe tbody tr th:only-of-type {\n",
       "        vertical-align: middle;\n",
       "    }\n",
       "\n",
       "    .dataframe tbody tr th {\n",
       "        vertical-align: top;\n",
       "    }\n",
       "\n",
       "    .dataframe thead th {\n",
       "        text-align: right;\n",
       "    }\n",
       "</style>\n",
       "<table border=\"1\" class=\"dataframe\">\n",
       "  <thead>\n",
       "    <tr style=\"text-align: right;\">\n",
       "      <th></th>\n",
       "      <th>Batch</th>\n",
       "      <th>User_ID</th>\n",
       "      <th>Score</th>\n",
       "      <th>Scores</th>\n",
       "      <th>Avg_Scores</th>\n",
       "    </tr>\n",
       "  </thead>\n",
       "  <tbody>\n",
       "    <tr>\n",
       "      <th>0</th>\n",
       "      <td>AI_ELITE_7</td>\n",
       "      <td>uid_149</td>\n",
       "      <td>6 / 7</td>\n",
       "      <td>6.0</td>\n",
       "      <td>5.056604</td>\n",
       "    </tr>\n",
       "    <tr>\n",
       "      <th>1</th>\n",
       "      <td>AI_ELITE_7</td>\n",
       "      <td>uid_148</td>\n",
       "      <td>6 / 7</td>\n",
       "      <td>6.0</td>\n",
       "      <td>5.056604</td>\n",
       "    </tr>\n",
       "    <tr>\n",
       "      <th>2</th>\n",
       "      <td>AI_ELITE_7</td>\n",
       "      <td>uid_147</td>\n",
       "      <td>7 / 7</td>\n",
       "      <td>7.0</td>\n",
       "      <td>5.056604</td>\n",
       "    </tr>\n",
       "    <tr>\n",
       "      <th>3</th>\n",
       "      <td>AI_ELITE_7</td>\n",
       "      <td>uid_146</td>\n",
       "      <td>7 / 7</td>\n",
       "      <td>7.0</td>\n",
       "      <td>5.056604</td>\n",
       "    </tr>\n",
       "    <tr>\n",
       "      <th>4</th>\n",
       "      <td>AI_ELITE_7</td>\n",
       "      <td>uid_145</td>\n",
       "      <td>4 / 7</td>\n",
       "      <td>4.0</td>\n",
       "      <td>5.056604</td>\n",
       "    </tr>\n",
       "  </tbody>\n",
       "</table>\n",
       "</div>"
      ],
      "text/plain": [
       "        Batch  User_ID  Score  Scores  Avg_Scores\n",
       "0  AI_ELITE_7  uid_149  6 / 7     6.0    5.056604\n",
       "1  AI_ELITE_7  uid_148  6 / 7     6.0    5.056604\n",
       "2  AI_ELITE_7  uid_147  7 / 7     7.0    5.056604\n",
       "3  AI_ELITE_7  uid_146  7 / 7     7.0    5.056604\n",
       "4  AI_ELITE_7  uid_145  4 / 7     4.0    5.056604"
      ]
     },
     "execution_count": 102,
     "metadata": {},
     "output_type": "execute_result"
    }
   ],
   "source": [
    "df.head()"
   ]
  },
  {
   "cell_type": "code",
   "execution_count": 105,
   "id": "b0b6bf5e",
   "metadata": {},
   "outputs": [
    {
     "data": {
      "text/plain": [
       "<Axes: xlabel='Batch', ylabel='Avg_Scores'>"
      ]
     },
     "execution_count": 105,
     "metadata": {},
     "output_type": "execute_result"
    },
    {
     "data": {
      "image/png": "[encoded data removed]",
      "text/plain": [
       "<Figure size 640x480 with 1 Axes>"
      ]
     },
     "metadata": {},
     "output_type": "display_data"
    }
   ],
   "source": [
    "sns.barplot(x = df[\"Batch\"], y = df[\"Avg_Scores\"])"
   ]
  },
  {
   "cell_type": "code",
   "execution_count": 89,
   "id": "59337fbf",
   "metadata": {},
   "outputs": [
    {
     "data": {
      "text/plain": [
       "<Axes: xlabel='Batch', ylabel='Scores'>"
      ]
     },
     "execution_count": 89,
     "metadata": {},
     "output_type": "execute_result"
    },
    {
     "data": {
      "image/png": "[encoded data removed]",
      "text/plain": [
       "<Figure size 640x480 with 1 Axes>"
      ]
     },
     "metadata": {},
     "output_type": "display_data"
    }
   ],
   "source": [
    "sns.boxplot(x = df[\"Batch\"], y = df[\"Scores\"])"
   ]
  },
  {
   "cell_type": "code",
   "execution_count": 107,
   "id": "501d4cd1",
   "metadata": {},
   "outputs": [
    {
     "data": {
      "text/plain": [
       "<Axes: xlabel='Batch', ylabel='Avg_Scores'>"
      ]
     },
     "execution_count": 107,
     "metadata": {},
     "output_type": "execute_result"
    },
    {
     "data": {
      "image/png": "[encoded data removed]",
      "text/plain": [
       "<Figure size 640x480 with 1 Axes>"
      ]
     },
     "metadata": {},
     "output_type": "display_data"
    }
   ],
   "source": [
    "sns.lineplot(x = df[\"Batch\"], y = df[\"Avg_Scores\"])"
   ]
  },
  {
   "cell_type": "markdown",
   "id": "f8065028",
   "metadata": {},
   "source": [
    "#### Conclusion:\n",
    "\n",
    "The Batch AI_ELITE_7 has the maximum average scores."
   ]
  }
 ],
 "metadata": {
  "kernelspec": {
   "display_name": "Python 3 (ipykernel)",
   "language": "python",
   "name": "python3"
  },
  "language_info": {
   "codemirror_mode": {
    "name": "ipython",
    "version": 3
   },
   "file_extension": ".py",
   "mimetype": "text/x-python",
   "name": "python",
   "nbconvert_exporter": "python",
   "pygments_lexer": "ipython3",
   "version": "3.11.1"
  }
 },
 "nbformat": 4,
 "nbformat_minor": 5
}
